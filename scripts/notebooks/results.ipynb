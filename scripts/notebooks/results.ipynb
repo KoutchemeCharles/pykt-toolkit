{
 "cells": [
  {
   "cell_type": "markdown",
   "metadata": {},
   "source": [
    "# Results"
   ]
  },
  {
   "cell_type": "markdown",
   "metadata": {},
   "source": [
    "So the first step is to obtain the project, and map each run to exactly which model, on which dataset, which fold"
   ]
  },
  {
   "cell_type": "code",
   "execution_count": 1,
   "metadata": {},
   "outputs": [],
   "source": [
    "import os, sys\n",
    "sys.path.append(\"../\")\n",
    "sys.path.append(\"../../\")\n",
    "sys.path.append(\"../../../\")"
   ]
  },
  {
   "cell_type": "code",
   "execution_count": 2,
   "metadata": {},
   "outputs": [],
   "source": [
    "from warnings import warn"
   ]
  },
  {
   "cell_type": "code",
   "execution_count": 3,
   "metadata": {},
   "outputs": [],
   "source": [
    "import pandas as pd"
   ]
  },
  {
   "cell_type": "code",
   "execution_count": 4,
   "metadata": {},
   "outputs": [],
   "source": [
    "from pykt.utils.wandb_utils import WandbUtils"
   ]
  },
  {
   "cell_type": "code",
   "execution_count": 5,
   "metadata": {},
   "outputs": [
    {
     "name": "stdout",
     "output_type": "stream",
     "text": [
      "Warning!! sweep falconcode_2_2_dkt_qid_4, was ran multiple times, taking the latest one :['bqtj3c4l', 'ouo2cgkb', '3wi059sz']\n",
      "Warning!! sweep falconcode_2_2_dkt_qid_3, was ran multiple times, taking the latest one :['fm9vipzn', 'iah0pw1h', 'rpxmti17']\n",
      "Warning!! sweep falconcode_2_2_dkt_qid_2, was ran multiple times, taking the latest one :['8lsdhg54', 'w7fya0bz', '1d5gtk7z']\n",
      "Warning!! sweep falconcode_2_2_dkt_qid_1, was ran multiple times, taking the latest one :['0vuv0tui', 'edsbgzk1', 't1w6xio5']\n",
      "Warning!! sweep falconcode_2_2_dkt_qid_0, was ran multiple times, taking the latest one :['68sluxig', 'vvkxc907', 'mcoykidl', 'dvw1l1d7']\n",
      "self.sweep_dict is {'falconcode_2_2_dkt_qid_4': 'bqtj3c4l', 'falconcode_2_2_dkt_qid_3': 'fm9vipzn', 'falconcode_2_2_dkt_qid_2': '8lsdhg54', 'falconcode_2_2_dkt_qid_1': '0vuv0tui', 'falconcode_2_2_dkt_qid_0': '68sluxig'}\n"
     ]
    },
    {
     "data": {
      "text/plain": [
       "{'falconcode_2_2_dkt_qid_4': 'bqtj3c4l',\n",
       " 'falconcode_2_2_dkt_qid_3': 'fm9vipzn',\n",
       " 'falconcode_2_2_dkt_qid_2': '8lsdhg54',\n",
       " 'falconcode_2_2_dkt_qid_1': '0vuv0tui',\n",
       " 'falconcode_2_2_dkt_qid_0': '68sluxig'}"
      ]
     },
     "execution_count": 5,
     "metadata": {},
     "output_type": "execute_result"
    }
   ],
   "source": [
    "wu = WandbUtils('letech', 'kt_toolkits')\n",
    "wu.sweep_dict"
   ]
  },
  {
   "cell_type": "markdown",
   "metadata": {},
   "source": [
    "#### We obtain a list of the datasets we used and the models trained"
   ]
  },
  {
   "cell_type": "code",
   "execution_count": 6,
   "metadata": {},
   "outputs": [
    {
     "data": {
      "text/plain": [
       "({'falconcode_2_2'}, {'dkt'})"
      ]
     },
     "execution_count": 6,
     "metadata": {},
     "output_type": "execute_result"
    }
   ],
   "source": [
    "datasets, models = set(), set()\n",
    "sweep_names = wu.sweep_dict.keys()\n",
    "for sn in sweep_names:\n",
    "    parts = sn.split(\"_\")\n",
    "    datasets.add(\"_\".join(parts[:3]))\n",
    "    models.add(\"_\".join(parts[3: parts.index(\"qid\")]))\n",
    "    \n",
    "datasets, models"
   ]
  },
  {
   "cell_type": "markdown",
   "metadata": {},
   "source": [
    "#### Obtain for the given dataset, model, and folds, the best results\n",
    "\n",
    "We also need to know for that given model, what are the hyperparameters, so w"
   ]
  },
  {
   "cell_type": "code",
   "execution_count": 7,
   "metadata": {},
   "outputs": [],
   "source": [
    "def get_hyperparameter_names(selected_sweeps):\n",
    "    _, model_configs = wu.get_df(selected_sweeps[0])\n",
    "    rejected_paramters = [\"model_name\", \"dataset_name\", \"save_dir\", \"fold\", \"seed\"]\n",
    "    hyperparameters = [k for k in model_configs if k not in rejected_paramters]\n",
    "    return hyperparameters"
   ]
  },
  {
   "cell_type": "code",
   "execution_count": 16,
   "metadata": {},
   "outputs": [],
   "source": [
    "def get_best_hyperparameters(grouped_results, hyperparams):\n",
    "    best_hyperparams = grouped_results.groupby(hyperparams)[\"validauc\"].mean().to_frame()\n",
    "    # Obtain the dataframe with the order of importance of each hyperparameter combination\n",
    "    best_hyperparams = best_hyperparams.sort_values(by=\"validauc\", ascending=False)\n",
    "    print(best_hyperparams)\n",
    "    best_hyperparams = best_hyperparams.head(1).index\n",
    "    best_hyperparams = best_hyperparams.to_frame().reset_index(drop=True).iloc[0].to_dict()\n",
    "    query_best_hyperparams = \" & \".join([f\"({k}=={repr(v)})\" for k, v in best_hyperparams.items()])\n",
    "    return best_hyperparams, query_best_hyperparams"
   ]
  },
  {
   "cell_type": "code",
   "execution_count": 17,
   "metadata": {},
   "outputs": [],
   "source": [
    "def check_all_finnished(selected_sweeps):\n",
    "    for ss in selected_sweeps:\n",
    "        status = wu.get_sweep_info(ss)[\"state\"]\n",
    "        if status != \"FINISHED\":\n",
    "            message = \"Careful sweep \" + ss + \" hasn't finnished yet\"\n",
    "            warn(message)"
   ]
  },
  {
   "cell_type": "code",
   "execution_count": 18,
   "metadata": {},
   "outputs": [
    {
     "name": "stderr",
     "output_type": "stream",
     "text": [
      "/tmp/ipykernel_21219/1632450084.py:6: UserWarning: Careful sweep falconcode_2_2_dkt_qid_2 hasn't finnished yet\n",
      "  warn(message)\n",
      "/tmp/ipykernel_21219/1632450084.py:6: UserWarning: Careful sweep falconcode_2_2_dkt_qid_1 hasn't finnished yet\n",
      "  warn(message)\n"
     ]
    },
    {
     "name": "stdout",
     "output_type": "stream",
     "text": [
      "                                         validauc\n",
      "dropout emb_size emb_type learning_rate          \n",
      "0.05    64       qid      0.00100        0.991184\n",
      "                          0.00010        0.989159\n",
      "        256      qid      0.00100        0.987872\n",
      "                          0.00001        0.987581\n",
      "0.10    256      qid      0.00100        0.987405\n",
      "0.30    256      qid      0.00100        0.987380\n",
      "0.05    256      qid      0.00010        0.986626\n",
      "0.10    256      qid      0.00010        0.986609\n",
      "0.30    256      qid      0.00010        0.986552\n",
      "0.50    256      qid      0.00010        0.986536\n",
      "                          0.00100        0.986197\n",
      "0.10    64       qid      0.00100        0.985563\n",
      "0.30    64       qid      0.00100        0.985522\n",
      "0.50    64       qid      0.00100        0.984272\n",
      "0.30    64       qid      0.00010        0.976312\n",
      "0.10    64       qid      0.00010        0.976236\n",
      "0.50    64       qid      0.00010        0.976205\n",
      "0.30    256      qid      0.00001        0.948368\n",
      "0.10    256      qid      0.00001        0.948287\n",
      "0.50    256      qid      0.00001        0.942522\n",
      "0.05    64       qid      0.00001        0.896273\n",
      "0.50    64       qid      0.00001        0.880011\n",
      "0.30    64       qid      0.00001        0.879322\n",
      "0.10    64       qid      0.00001        0.878949\n"
     ]
    },
    {
     "data": {
      "text/plain": [
       "{'falconcode_2_2': defaultdict(dict,\n",
       "             {'dkt': {'dropout': 0.05,\n",
       "               'emb_size': 64,\n",
       "               'emb_type': 'qid',\n",
       "               'learning_rate': 0.001}})}"
      ]
     },
     "execution_count": 18,
     "metadata": {},
     "output_type": "execute_result"
    }
   ],
   "source": [
    "from collections import defaultdict\n",
    "from itertools import product\n",
    "\n",
    "f = lambda : defaultdict(dict)\n",
    "dataframes = []\n",
    "best_hyperparams = defaultdict(f)\n",
    "for dataset_name, model_name in product(datasets, models):\n",
    "    selected_sweeps = [sn for sn in sweep_names \n",
    "                       if dataset_name in sn and model_name in sn]\n",
    "    check_all_finnished(selected_sweeps)\n",
    "    grouped_results = pd.concat(wu.get_multi_df(selected_sweeps))\n",
    "    hyperparameters = get_hyperparameter_names(selected_sweeps)\n",
    "    bests, query = get_best_hyperparameters(grouped_results, \n",
    "                                     hyperparameters)\n",
    "    best_hyperparams[dataset_name][model_name] = bests\n",
    "    dataframes.append(grouped_results.query(query))\n",
    "    \n",
    "best_hyperparams = dict(best_hyperparams)\n",
    "best_hyperparams"
   ]
  },
  {
   "cell_type": "code",
   "execution_count": 35,
   "metadata": {},
   "outputs": [],
   "source": [
    "def get_best_models(grouped_results):\n",
    "    f = lambda df: df.sort_values(by=\"validauc\").iloc[-1]\n",
    "    return grouped_results.groupby(\"fold\").apply(f)"
   ]
  },
  {
   "cell_type": "code",
   "execution_count": 39,
   "metadata": {},
   "outputs": [
    {
     "name": "stderr",
     "output_type": "stream",
     "text": [
      "/tmp/ipykernel_21219/1632450084.py:6: UserWarning: Careful sweep falconcode_2_2_dkt_qid_2 hasn't finnished yet\n",
      "  warn(message)\n",
      "/tmp/ipykernel_21219/1632450084.py:6: UserWarning: Careful sweep falconcode_2_2_dkt_qid_1 hasn't finnished yet\n",
      "  warn(message)\n"
     ]
    },
    {
     "name": "stdout",
     "output_type": "stream",
     "text": [
      "                                        model_save_path  _step   \n",
      "fold                                                             \n",
      "0     /scratch/work/koutchc1/experiments/pykt/models...    0.0  \\\n",
      "1     /scratch/work/koutchc1/experiments/pykt/models...    0.0   \n",
      "2     /scratch/work/koutchc1/experiments/pykt/models...    0.0   \n",
      "3     /scratch/work/koutchc1/experiments/pykt/models...    0.0   \n",
      "4     /scratch/work/koutchc1/experiments/pykt/models...    0.0   \n",
      "\n",
      "                 _wandb     _runtime  validacc  validauc    _timestamp   \n",
      "fold                                                                     \n",
      "0      {'runtime': 630}   630.513108  0.913043  0.982143  1.686067e+09  \\\n",
      "1     {'runtime': 1101}  1102.221098  0.962872  0.992127  1.686083e+09   \n",
      "2      {'runtime': 909}   910.014877  0.961602  0.991606  1.686061e+09   \n",
      "3      {'runtime': 849}   849.620508  0.962496  0.992234  1.686080e+09   \n",
      "4      {'runtime': 966}   966.849191  0.962972  0.992089  1.686061e+09   \n",
      "\n",
      "      best_epoch fold  seed  ...   \n",
      "fold                         ...   \n",
      "0            2.0    0  3407  ...  \\\n",
      "1            8.0    1    42  ...   \n",
      "2            6.0    2    42  ...   \n",
      "3            7.0    3    42  ...   \n",
      "4            9.0    4    42  ...   \n",
      "\n",
      "                                               save_dir  model_name   \n",
      "fold                                                                  \n",
      "0     /scratch/work/koutchc1/experiments/pykt/models...         dkt  \\\n",
      "1     /scratch/work/koutchc1/experiments/pykt/models...         dkt   \n",
      "2     /scratch/work/koutchc1/experiments/pykt/models...         dkt   \n",
      "3     /scratch/work/koutchc1/experiments/pykt/models...         dkt   \n",
      "4     /scratch/work/koutchc1/experiments/pykt/models...         dkt   \n",
      "\n",
      "        dataset_name learning_rate              name   path_id     state   \n",
      "fold                                                                       \n",
      "0     falconcode_2_2         0.001  silvery-sweep-32  qqjcuaea  finished  \\\n",
      "1     falconcode_2_2         0.001     neat-sweep-19  e1z4hrnk  finished   \n",
      "2     falconcode_2_2         0.001     tough-sweep-7  36r4xfld  finished   \n",
      "3     falconcode_2_2         0.001    tough-sweep-19  4axhhjq5  finished   \n",
      "4     falconcode_2_2         0.001     denim-sweep-7  vgkpdytn  finished   \n",
      "\n",
      "     create_time run_index                sweep_name  \n",
      "fold                                                  \n",
      "0     1686066771        24  falconcode_2_2_dkt_qid_0  \n",
      "1     1686083061        17  falconcode_2_2_dkt_qid_1  \n",
      "2     1686060578         5  falconcode_2_2_dkt_qid_2  \n",
      "3     1686079945        17  falconcode_2_2_dkt_qid_3  \n",
      "4     1686060621         5  falconcode_2_2_dkt_qid_4  \n",
      "\n",
      "[5 rows x 23 columns]\n"
     ]
    }
   ],
   "source": [
    "from collections import defaultdict\n",
    "from itertools import product\n",
    "\n",
    "f = lambda : defaultdict(dict)\n",
    "dataframes = []\n",
    "best_models = defaultdict(f)\n",
    "for dataset_name, model_name in product(datasets, models):\n",
    "    selected_sweeps = [sn for sn in sweep_names \n",
    "                       if dataset_name in sn and model_name in sn]\n",
    "    check_all_finnished(selected_sweeps)\n",
    "    grouped_results = pd.concat(wu.get_multi_df(selected_sweeps))\n",
    "    sub_df = get_best_models(grouped_results)\n",
    "    best_models[dataset_name][model_name] = list(sub_df.model_save_path)"
   ]
  },
  {
   "cell_type": "code",
   "execution_count": 38,
   "metadata": {},
   "outputs": [
    {
     "data": {
      "text/plain": [
       "['/scratch/work/koutchc1/experiments/pykt/models/dkt/falconcode_2_2_dkt_qid_3407_0_0.3_256_0.001_1_1_a9701277-4562-4bdc-8a92-a0a324be54ef/qid_model.ckpt',\n",
       " '/scratch/work/koutchc1/experiments/pykt/models/dkt/falconcode_2_2_dkt_qid_42_1_0.1_256_0.001_1_1_a92d9011-a03a-4b69-9ea6-dc7aa896213a/qid_model.ckpt',\n",
       " '/scratch/work/koutchc1/experiments/pykt/models/dkt/falconcode_2_2_dkt_qid_42_2_0.05_256_0.001_1_1_7ad91fb5-ec86-46af-bcd9-3073962861c9/qid_model.ckpt',\n",
       " '/scratch/work/koutchc1/experiments/pykt/models/dkt/falconcode_2_2_dkt_qid_42_3_0.1_256_0.001_1_1_0fcf8845-83d2-4410-a805-c41e783e34b3/qid_model.ckpt',\n",
       " '/scratch/work/koutchc1/experiments/pykt/models/dkt/falconcode_2_2_dkt_qid_42_4_0.05_256_0.001_1_1_22bebde0-85f7-45d0-a66a-d7a5221b01bc/qid_model.ckpt']"
      ]
     },
     "execution_count": 38,
     "metadata": {},
     "output_type": "execute_result"
    }
   ],
   "source": [
    "best_models['falconcode_2_2']['dkt']"
   ]
  },
  {
   "cell_type": "markdown",
   "metadata": {},
   "source": [
    "At the end here we have a mapping of the hyperparameters to rerun model training with, which we will save somewhere in a file or a dictionary. We can then pass this dictionary to another training script which will run the model trainings with the good hyperparameters"
   ]
  },
  {
   "cell_type": "code",
   "execution_count": 41,
   "metadata": {},
   "outputs": [],
   "source": [
    "import json\n",
    "\n",
    "best_configs_path = \"/home/koutchc1/pykt-toolkit/configs/best_model.json\"\n",
    "\n",
    "data = {}\n",
    "if os.path.exists(best_configs_path):\n",
    "    with open(best_configs_path, \"r\") as f:\n",
    "        data = json.load(f)\n",
    "data.update(best_models)\n",
    "\n",
    "with open(best_configs_path, \"w\") as f:\n",
    "    json.dump(data, f, indent = 3)"
   ]
  },
  {
   "cell_type": "code",
   "execution_count": 44,
   "metadata": {},
   "outputs": [],
   "source": [
    "best_models_txt_path = \"/home/koutchc1/pykt-toolkit/best_models.txt\"\n",
    "with open(best_models_txt_path, 'w') as f:\n",
    "    for dataset, models_to_path in data.items():\n",
    "        for paths in models_to_path.values():\n",
    "            for path in paths:\n",
    "                f.write(\"/\".join(path.split(\"/\")[:-1]) + \"\\n\")"
   ]
  },
  {
   "cell_type": "code",
   "execution_count": null,
   "metadata": {},
   "outputs": [],
   "source": []
  }
 ],
 "metadata": {
  "kernelspec": {
   "display_name": "Python (pykt)",
   "language": "python",
   "name": "pykt"
  },
  "language_info": {
   "codemirror_mode": {
    "name": "ipython",
    "version": 3
   },
   "file_extension": ".py",
   "mimetype": "text/x-python",
   "name": "python",
   "nbconvert_exporter": "python",
   "pygments_lexer": "ipython3",
   "version": "3.11.3"
  }
 },
 "nbformat": 4,
 "nbformat_minor": 4
}
