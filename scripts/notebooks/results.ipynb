{
 "cells": [
  {
   "cell_type": "markdown",
   "metadata": {},
   "source": [
    "# Results"
   ]
  },
  {
   "cell_type": "markdown",
   "metadata": {},
   "source": [
    "So the first step is to obtain the project, and map each run to exactly which model, on which dataset, which fold"
   ]
  },
  {
   "cell_type": "code",
   "execution_count": 31,
   "metadata": {},
   "outputs": [],
   "source": [
    "import os, sys\n",
    "sys.path.append(\"../\")\n",
    "sys.path.append(\"../../\")\n",
    "sys.path.append(\"../../../\")"
   ]
  },
  {
   "cell_type": "code",
   "execution_count": 32,
   "metadata": {},
   "outputs": [],
   "source": [
    "from warnings import warn"
   ]
  },
  {
   "cell_type": "code",
   "execution_count": 33,
   "metadata": {},
   "outputs": [],
   "source": [
    "import pandas as pd"
   ]
  },
  {
   "cell_type": "code",
   "execution_count": 34,
   "metadata": {},
   "outputs": [],
   "source": [
    "from pykt.utils.wandb_utils import WandbUtils"
   ]
  },
  {
   "cell_type": "code",
   "execution_count": 35,
   "metadata": {},
   "outputs": [
    {
     "name": "stdout",
     "output_type": "stream",
     "text": [
      "Warning!! sweep falconcode_2_3_akt_qid_4, was ran multiple times, taking the latest one :['xyw3chqc', '0iuq5zge']\n",
      "Warning!! sweep falconcode_2_3_akt_qid_3, was ran multiple times, taking the latest one :['isgm2mjl', 'df07rq0a']\n",
      "Warning!! sweep falconcode_2_3_akt_qid_2, was ran multiple times, taking the latest one :['ha86l3dj', 'azqredp7']\n",
      "Warning!! sweep falconcode_2_3_akt_qid_1, was ran multiple times, taking the latest one :['hzcqe9uk', 'hteu3v8z']\n",
      "Warning!! sweep falconcode_2_3_akt_qid_0, was ran multiple times, taking the latest one :['xyoh1w47', 'gf367wp3']\n",
      "Warning!! sweep falconcode_2_3_dkvmn_qid_4, was ran multiple times, taking the latest one :['wft4n7v0', '9ysx4g5k', 'tr0ehscq']\n",
      "Warning!! sweep falconcode_2_3_dkvmn_qid_3, was ran multiple times, taking the latest one :['lx8w0ov9', 'kizckc34']\n",
      "Warning!! sweep falconcode_2_3_dkvmn_qid_2, was ran multiple times, taking the latest one :['3h0cbp34', '9apg2mht']\n",
      "Warning!! sweep falconcode_2_3_dkvmn_qid_1, was ran multiple times, taking the latest one :['mmx5w69y', 'i4pkzigg']\n",
      "Warning!! sweep falconcode_2_3_dkvmn_qid_0, was ran multiple times, taking the latest one :['xkad2i1b', '9lfdhh90']\n",
      "Warning!! sweep falconcode_2_3_dkt_qid_4, was ran multiple times, taking the latest one :['6cqeht5u', 'f84n231n']\n",
      "Warning!! sweep falconcode_2_3_dkt_qid_3, was ran multiple times, taking the latest one :['jznnp2u3', 'equftzfg']\n",
      "Warning!! sweep falconcode_2_3_dkt_qid_2, was ran multiple times, taking the latest one :['scpgb7cb', '9ygw28id', 'cmvz4h6q', '4qwi24kf']\n",
      "Warning!! sweep falconcode_2_3_dkt_qid_1, was ran multiple times, taking the latest one :['0zbdr44q', '2krpcwak']\n",
      "Warning!! sweep falconcode_2_3_dkt_qid_0, was ran multiple times, taking the latest one :['ac8jsdnf', '0pmvjerq', '5k79fc6k']\n",
      "Warning!! sweep falconcode_2_2_akt_qid_4, was ran multiple times, taking the latest one :['i6g8hkul', 'tm0ubl5t', 'mc1ko6ro']\n",
      "Warning!! sweep falconcode_2_2_akt_qid_3, was ran multiple times, taking the latest one :['jar75181', '4m97tpki']\n",
      "Warning!! sweep falconcode_2_2_akt_qid_2, was ran multiple times, taking the latest one :['9pb079ex', 'xcd86frt']\n",
      "Warning!! sweep falconcode_2_2_akt_qid_1, was ran multiple times, taking the latest one :['rfs54326', 'x96x1jhq']\n",
      "Warning!! sweep falconcode_2_2_akt_qid_0, was ran multiple times, taking the latest one :['1vm4shz0', '9iqyeg8u']\n",
      "Warning!! sweep falconcode_2_2_dkvmn_qid_4, was ran multiple times, taking the latest one :['4it4rpcs', 'khnjp2zg']\n",
      "Warning!! sweep falconcode_2_2_dkvmn_qid_3, was ran multiple times, taking the latest one :['uljidmwb', 'i6sccpoz', '54wer94m']\n",
      "Warning!! sweep falconcode_2_2_dkvmn_qid_2, was ran multiple times, taking the latest one :['crrz4438', '36y856ul']\n",
      "Warning!! sweep falconcode_2_2_dkvmn_qid_1, was ran multiple times, taking the latest one :['rexz7xll', '532qejy7']\n",
      "Warning!! sweep falconcode_2_2_dkvmn_qid_0, was ran multiple times, taking the latest one :['cz19r74d', '4cauihfo', 'afn7iguj']\n",
      "Warning!! sweep falconcode_2_2_dkt_qid_4, was ran multiple times, taking the latest one :['he3o3w4b', 'shkoss2i', 'bqtj3c4l', 'ouo2cgkb', '3wi059sz']\n",
      "Warning!! sweep falconcode_2_2_dkt_qid_3, was ran multiple times, taking the latest one :['8qatxca5', 'z2hzklnp', 'fm9vipzn', 'iah0pw1h', 'rpxmti17']\n",
      "Warning!! sweep falconcode_2_2_dkt_qid_2, was ran multiple times, taking the latest one :['jbc5prze', '5j9e9obb', '8lsdhg54', 'w7fya0bz', '1d5gtk7z']\n",
      "Warning!! sweep falconcode_2_2_dkt_qid_1, was ran multiple times, taking the latest one :['j8qonzhd', 'ql0shufi', '0vuv0tui', 'edsbgzk1', 't1w6xio5']\n",
      "Warning!! sweep falconcode_2_2_dkt_qid_0, was ran multiple times, taking the latest one :['1l49wfma', 'smglqr3s', '68sluxig', 'vvkxc907', 'mcoykidl', 'dvw1l1d7']\n",
      "self.sweep_dict is {'falconcode_2_3_akt_qid_4': 'xyw3chqc', 'falconcode_2_3_akt_qid_3': 'isgm2mjl', 'falconcode_2_3_akt_qid_2': 'ha86l3dj', 'falconcode_2_3_akt_qid_1': 'hzcqe9uk', 'falconcode_2_3_akt_qid_0': 'xyoh1w47', 'falconcode_2_3_dkvmn_qid_4': 'wft4n7v0', 'falconcode_2_3_dkvmn_qid_3': 'lx8w0ov9', 'falconcode_2_3_dkvmn_qid_2': '3h0cbp34', 'falconcode_2_3_dkvmn_qid_1': 'mmx5w69y', 'falconcode_2_3_dkvmn_qid_0': 'xkad2i1b', 'falconcode_2_3_dkt_qid_4': '6cqeht5u', 'falconcode_2_3_dkt_qid_3': 'jznnp2u3', 'falconcode_2_3_dkt_qid_2': 'scpgb7cb', 'falconcode_2_3_dkt_qid_1': '0zbdr44q', 'falconcode_2_3_dkt_qid_0': 'ac8jsdnf', 'falconcode_2_2_akt_qid_4': 'i6g8hkul', 'falconcode_2_2_akt_qid_3': 'jar75181', 'falconcode_2_2_akt_qid_2': '9pb079ex', 'falconcode_2_2_akt_qid_1': 'rfs54326', 'falconcode_2_2_akt_qid_0': '1vm4shz0', 'falconcode_2_2_dkvmn_qid_4': '4it4rpcs', 'falconcode_2_2_dkvmn_qid_3': 'uljidmwb', 'falconcode_2_2_dkvmn_qid_2': 'crrz4438', 'falconcode_2_2_dkvmn_qid_1': 'rexz7xll', 'falconcode_2_2_dkvmn_qid_0': 'cz19r74d', 'falconcode_2_2_dkt_qid_4': 'he3o3w4b', 'falconcode_2_2_dkt_qid_3': '8qatxca5', 'falconcode_2_2_dkt_qid_2': 'jbc5prze', 'falconcode_2_2_dkt_qid_1': 'j8qonzhd', 'falconcode_2_2_dkt_qid_0': '1l49wfma', 'falconcode_23_4_akt_qid_4': 'ubjqas71', 'falconcode_23_4_akt_qid_3': 'vvybj8wf', 'falconcode_23_4_akt_qid_2': 'vf7g1i88', 'falconcode_23_4_akt_qid_1': 'etfd5p4w', 'falconcode_23_4_akt_qid_0': '775bye4e', 'falconcode_23_4_dkvmn_qid_4': 'f212tb9d', 'falconcode_23_4_dkvmn_qid_3': 'icfu31iq', 'falconcode_23_4_dkvmn_qid_2': 's0f4mvy0', 'falconcode_23_4_dkvmn_qid_1': '9u9moyxs', 'falconcode_23_4_dkvmn_qid_0': 'lhbzrcwh', 'falconcode_23_4_dkt_qid_4': '7cnby6ua', 'falconcode_23_4_dkt_qid_3': '6ei8bb17', 'falconcode_23_4_dkt_qid_2': '9y6bdln6', 'falconcode_23_4_dkt_qid_1': 'ni6hlezj', 'falconcode_23_4_dkt_qid_0': 'xchooawd'}\n"
     ]
    },
    {
     "data": {
      "text/plain": [
       "{'falconcode_2_3_akt_qid_4': 'xyw3chqc',\n",
       " 'falconcode_2_3_akt_qid_3': 'isgm2mjl',\n",
       " 'falconcode_2_3_akt_qid_2': 'ha86l3dj',\n",
       " 'falconcode_2_3_akt_qid_1': 'hzcqe9uk',\n",
       " 'falconcode_2_3_akt_qid_0': 'xyoh1w47',\n",
       " 'falconcode_2_3_dkvmn_qid_4': 'wft4n7v0',\n",
       " 'falconcode_2_3_dkvmn_qid_3': 'lx8w0ov9',\n",
       " 'falconcode_2_3_dkvmn_qid_2': '3h0cbp34',\n",
       " 'falconcode_2_3_dkvmn_qid_1': 'mmx5w69y',\n",
       " 'falconcode_2_3_dkvmn_qid_0': 'xkad2i1b',\n",
       " 'falconcode_2_3_dkt_qid_4': '6cqeht5u',\n",
       " 'falconcode_2_3_dkt_qid_3': 'jznnp2u3',\n",
       " 'falconcode_2_3_dkt_qid_2': 'scpgb7cb',\n",
       " 'falconcode_2_3_dkt_qid_1': '0zbdr44q',\n",
       " 'falconcode_2_3_dkt_qid_0': 'ac8jsdnf',\n",
       " 'falconcode_2_2_akt_qid_4': 'i6g8hkul',\n",
       " 'falconcode_2_2_akt_qid_3': 'jar75181',\n",
       " 'falconcode_2_2_akt_qid_2': '9pb079ex',\n",
       " 'falconcode_2_2_akt_qid_1': 'rfs54326',\n",
       " 'falconcode_2_2_akt_qid_0': '1vm4shz0',\n",
       " 'falconcode_2_2_dkvmn_qid_4': '4it4rpcs',\n",
       " 'falconcode_2_2_dkvmn_qid_3': 'uljidmwb',\n",
       " 'falconcode_2_2_dkvmn_qid_2': 'crrz4438',\n",
       " 'falconcode_2_2_dkvmn_qid_1': 'rexz7xll',\n",
       " 'falconcode_2_2_dkvmn_qid_0': 'cz19r74d',\n",
       " 'falconcode_2_2_dkt_qid_4': 'he3o3w4b',\n",
       " 'falconcode_2_2_dkt_qid_3': '8qatxca5',\n",
       " 'falconcode_2_2_dkt_qid_2': 'jbc5prze',\n",
       " 'falconcode_2_2_dkt_qid_1': 'j8qonzhd',\n",
       " 'falconcode_2_2_dkt_qid_0': '1l49wfma',\n",
       " 'falconcode_23_4_akt_qid_4': 'ubjqas71',\n",
       " 'falconcode_23_4_akt_qid_3': 'vvybj8wf',\n",
       " 'falconcode_23_4_akt_qid_2': 'vf7g1i88',\n",
       " 'falconcode_23_4_akt_qid_1': 'etfd5p4w',\n",
       " 'falconcode_23_4_akt_qid_0': '775bye4e',\n",
       " 'falconcode_23_4_dkvmn_qid_4': 'f212tb9d',\n",
       " 'falconcode_23_4_dkvmn_qid_3': 'icfu31iq',\n",
       " 'falconcode_23_4_dkvmn_qid_2': 's0f4mvy0',\n",
       " 'falconcode_23_4_dkvmn_qid_1': '9u9moyxs',\n",
       " 'falconcode_23_4_dkvmn_qid_0': 'lhbzrcwh',\n",
       " 'falconcode_23_4_dkt_qid_4': '7cnby6ua',\n",
       " 'falconcode_23_4_dkt_qid_3': '6ei8bb17',\n",
       " 'falconcode_23_4_dkt_qid_2': '9y6bdln6',\n",
       " 'falconcode_23_4_dkt_qid_1': 'ni6hlezj',\n",
       " 'falconcode_23_4_dkt_qid_0': 'xchooawd'}"
      ]
     },
     "execution_count": 35,
     "metadata": {},
     "output_type": "execute_result"
    }
   ],
   "source": [
    "wu = WandbUtils('letech', 'kt_toolkits')\n",
    "wu.sweep_dict"
   ]
  },
  {
   "cell_type": "markdown",
   "metadata": {},
   "source": [
    "#### We obtain a list of the datasets we used and the models trained"
   ]
  },
  {
   "cell_type": "code",
   "execution_count": 36,
   "metadata": {},
   "outputs": [
    {
     "data": {
      "text/plain": [
       "({'falconcode_23_4', 'falconcode_2_2', 'falconcode_2_3'},\n",
       " {'akt', 'dkt', 'dkvmn'})"
      ]
     },
     "execution_count": 36,
     "metadata": {},
     "output_type": "execute_result"
    }
   ],
   "source": [
    "datasets, models = set(), set()\n",
    "sweep_names = wu.sweep_dict.keys()\n",
    "for sn in sweep_names:\n",
    "    parts = sn.split(\"_\")\n",
    "    datasets.add(\"_\".join(parts[:3]))\n",
    "    models.add(\"_\".join(parts[3: parts.index(\"qid\")]))\n",
    "    \n",
    "datasets, models"
   ]
  },
  {
   "cell_type": "markdown",
   "metadata": {},
   "source": [
    "#### Obtain for the given dataset, model, and folds, the best results\n",
    "\n",
    "We also need to know for that given model, what are the hyperparameters, so w"
   ]
  },
  {
   "cell_type": "code",
   "execution_count": 37,
   "metadata": {},
   "outputs": [],
   "source": [
    "def get_hyperparameter_names(selected_sweeps):\n",
    "    _, model_configs = wu.get_df(selected_sweeps[0])\n",
    "    rejected_paramters = [\"model_name\", \"dataset_name\", \"save_dir\", \"fold\", \"seed\"]\n",
    "    hyperparameters = [k for k in model_configs if k not in rejected_paramters]\n",
    "    return hyperparameters"
   ]
  },
  {
   "cell_type": "code",
   "execution_count": 38,
   "metadata": {},
   "outputs": [],
   "source": [
    "def get_best_hyperparameters(grouped_results, hyperparams):\n",
    "    best_hyperparams = grouped_results.groupby(hyperparams)[\"validauc\"].mean().to_frame()\n",
    "    # Obtain the dataframe with the order of importance of each hyperparameter combination\n",
    "    best_hyperparams = best_hyperparams.sort_values(by=\"validauc\", ascending=False)\n",
    "    print(best_hyperparams)\n",
    "    best_hyperparams = best_hyperparams.head(1).index\n",
    "    best_hyperparams = best_hyperparams.to_frame().reset_index(drop=True).iloc[0].to_dict()\n",
    "    query_best_hyperparams = \" & \".join([f\"({k}=={repr(v)})\" for k, v in best_hyperparams.items()])\n",
    "    return best_hyperparams, query_best_hyperparams"
   ]
  },
  {
   "cell_type": "code",
   "execution_count": 39,
   "metadata": {},
   "outputs": [],
   "source": [
    "def check_all_finnished(selected_sweeps):\n",
    "    for ss in selected_sweeps:\n",
    "        status = wu.get_sweep_info(ss)[\"state\"]\n",
    "        if status != \"FINISHED\":\n",
    "            message = \"Careful sweep \" + ss + \" hasn't finnished yet\"\n",
    "            warn(message)"
   ]
  },
  {
   "cell_type": "code",
   "execution_count": 40,
   "metadata": {},
   "outputs": [
    {
     "name": "stderr",
     "output_type": "stream",
     "text": [
      "/tmp/ipykernel_2329/1632450084.py:6: UserWarning: Careful sweep falconcode_2_2_akt_qid_4 hasn't finnished yet\n",
      "  warn(message)\n",
      "/tmp/ipykernel_2329/1632450084.py:6: UserWarning: Careful sweep falconcode_2_2_akt_qid_3 hasn't finnished yet\n",
      "  warn(message)\n",
      "/tmp/ipykernel_2329/1632450084.py:6: UserWarning: Careful sweep falconcode_2_2_akt_qid_2 hasn't finnished yet\n",
      "  warn(message)\n",
      "/tmp/ipykernel_2329/1632450084.py:6: UserWarning: Careful sweep falconcode_2_2_akt_qid_1 hasn't finnished yet\n",
      "  warn(message)\n",
      "/tmp/ipykernel_2329/1632450084.py:6: UserWarning: Careful sweep falconcode_2_2_akt_qid_0 hasn't finnished yet\n",
      "  warn(message)\n"
     ]
    },
    {
     "name": "stdout",
     "output_type": "stream",
     "text": [
      "                                                                     validauc\n",
      "d_ff d_model dropout emb_type n_blocks learning_rate num_attn_heads          \n",
      "256  256     0.05    qid      4        0.00010       8               0.992845\n",
      "64   256     0.10    qid      4        0.00010       4               0.992831\n",
      "256  256     0.10    qid      1        0.00100       8               0.992642\n",
      "     64      0.05    qid      4        0.00100       8               0.992617\n",
      "             0.10    qid      4        0.00100       8               0.992608\n",
      "...                                                                       ...\n",
      "             0.30    qid      4        0.00001       8               0.987595\n",
      "64   64      0.50    qid      1        0.00001       8               0.987530\n",
      "256  256     0.50    qid      1        0.00001       4               0.987240\n",
      "     64      0.50    qid      1        0.00010       8               0.987056\n",
      "64   256     0.50    qid      4        0.00001       4               0.984833\n",
      "\n",
      "[71 rows x 1 columns]\n"
     ]
    },
    {
     "name": "stderr",
     "output_type": "stream",
     "text": [
      "/tmp/ipykernel_2329/1632450084.py:6: UserWarning: Careful sweep falconcode_2_2_dkvmn_qid_4 hasn't finnished yet\n",
      "  warn(message)\n",
      "/tmp/ipykernel_2329/1632450084.py:6: UserWarning: Careful sweep falconcode_2_2_dkvmn_qid_3 hasn't finnished yet\n",
      "  warn(message)\n",
      "/tmp/ipykernel_2329/1632450084.py:6: UserWarning: Careful sweep falconcode_2_2_dkvmn_qid_2 hasn't finnished yet\n",
      "  warn(message)\n",
      "/tmp/ipykernel_2329/1632450084.py:6: UserWarning: Careful sweep falconcode_2_2_dkvmn_qid_1 hasn't finnished yet\n",
      "  warn(message)\n",
      "/tmp/ipykernel_2329/1632450084.py:6: UserWarning: Careful sweep falconcode_2_2_dkvmn_qid_0 hasn't finnished yet\n",
      "  warn(message)\n"
     ]
    },
    {
     "name": "stdout",
     "output_type": "stream",
     "text": [
      "                                             validauc\n",
      "dim_s size_m dropout emb_type learning_rate          \n",
      "64    64     0.10    qid      0.00100        0.991180\n",
      "      32     0.05    qid      0.00100        0.991074\n",
      "             0.10    qid      0.00100        0.991066\n",
      "      64     0.05    qid      0.00100        0.991004\n",
      "      32     0.05    qid      0.00010        0.988739\n",
      "             0.10    qid      0.00010        0.988712\n",
      "      64     0.10    qid      0.00010        0.988653\n",
      "             0.05    qid      0.00010        0.988455\n",
      "      32     0.05    qid      0.00001        0.981631\n",
      "      64     0.05    qid      0.00001        0.974023\n",
      "                                         validauc\n",
      "dropout emb_size emb_type learning_rate          \n",
      "0.05    256      qid      0.00100        0.992152\n",
      "0.10    256      qid      0.00100        0.992144\n",
      "0.30    256      qid      0.00100        0.992087\n",
      "0.50    256      qid      0.00100        0.992021\n",
      "0.05    64       qid      0.00100        0.991190\n",
      "0.10    64       qid      0.00100        0.991180\n",
      "0.05    256      qid      0.00010        0.991151\n",
      "0.10    256      qid      0.00010        0.991123\n",
      "0.30    64       qid      0.00100        0.991122\n",
      "        256      qid      0.00010        0.991068\n",
      "0.50    256      qid      0.00010        0.991007\n",
      "        64       qid      0.00100        0.990952\n",
      "0.05    64       qid      0.00010        0.989272\n",
      "0.10    64       qid      0.00010        0.989265\n",
      "0.30    64       qid      0.00010        0.989211\n",
      "0.50    64       qid      0.00010        0.988873\n",
      "0.05    256      qid      0.00001        0.987644\n",
      "0.10    256      qid      0.00001        0.987629\n",
      "0.30    256      qid      0.00001        0.987587\n",
      "0.50    256      qid      0.00001        0.987533\n",
      "        64       qid      0.00001        0.917833\n",
      "0.30    64       qid      0.00001        0.916931\n",
      "0.10    64       qid      0.00001        0.916383\n",
      "0.05    64       qid      0.00001        0.916352\n"
     ]
    },
    {
     "name": "stderr",
     "output_type": "stream",
     "text": [
      "/tmp/ipykernel_2329/1632450084.py:6: UserWarning: Careful sweep falconcode_2_3_akt_qid_4 hasn't finnished yet\n",
      "  warn(message)\n",
      "/tmp/ipykernel_2329/1632450084.py:6: UserWarning: Careful sweep falconcode_2_3_akt_qid_3 hasn't finnished yet\n",
      "  warn(message)\n",
      "/tmp/ipykernel_2329/1632450084.py:6: UserWarning: Careful sweep falconcode_2_3_akt_qid_2 hasn't finnished yet\n",
      "  warn(message)\n",
      "/tmp/ipykernel_2329/1632450084.py:6: UserWarning: Careful sweep falconcode_2_3_akt_qid_1 hasn't finnished yet\n",
      "  warn(message)\n",
      "/tmp/ipykernel_2329/1632450084.py:6: UserWarning: Careful sweep falconcode_2_3_akt_qid_0 hasn't finnished yet\n",
      "  warn(message)\n"
     ]
    },
    {
     "ename": "KeyError",
     "evalue": "'_timestamp'",
     "output_type": "error",
     "traceback": [
      "\u001b[0;31m---------------------------------------------------------------------------\u001b[0m",
      "\u001b[0;31mKeyError\u001b[0m                                  Traceback (most recent call last)",
      "File \u001b[0;32m/scratch/work/koutchc1/.conda_envs/emnlp2023/lib/python3.11/site-packages/pandas/core/indexes/base.py:3652\u001b[0m, in \u001b[0;36mIndex.get_loc\u001b[0;34m(self, key)\u001b[0m\n\u001b[1;32m   3651\u001b[0m \u001b[38;5;28;01mtry\u001b[39;00m:\n\u001b[0;32m-> 3652\u001b[0m     \u001b[38;5;28;01mreturn\u001b[39;00m \u001b[38;5;28;43mself\u001b[39;49m\u001b[38;5;241;43m.\u001b[39;49m\u001b[43m_engine\u001b[49m\u001b[38;5;241;43m.\u001b[39;49m\u001b[43mget_loc\u001b[49m\u001b[43m(\u001b[49m\u001b[43mcasted_key\u001b[49m\u001b[43m)\u001b[49m\n\u001b[1;32m   3653\u001b[0m \u001b[38;5;28;01mexcept\u001b[39;00m \u001b[38;5;167;01mKeyError\u001b[39;00m \u001b[38;5;28;01mas\u001b[39;00m err:\n",
      "File \u001b[0;32m/scratch/work/koutchc1/.conda_envs/emnlp2023/lib/python3.11/site-packages/pandas/_libs/index.pyx:147\u001b[0m, in \u001b[0;36mpandas._libs.index.IndexEngine.get_loc\u001b[0;34m()\u001b[0m\n",
      "File \u001b[0;32m/scratch/work/koutchc1/.conda_envs/emnlp2023/lib/python3.11/site-packages/pandas/_libs/index.pyx:176\u001b[0m, in \u001b[0;36mpandas._libs.index.IndexEngine.get_loc\u001b[0;34m()\u001b[0m\n",
      "File \u001b[0;32mpandas/_libs/hashtable_class_helper.pxi:7080\u001b[0m, in \u001b[0;36mpandas._libs.hashtable.PyObjectHashTable.get_item\u001b[0;34m()\u001b[0m\n",
      "File \u001b[0;32mpandas/_libs/hashtable_class_helper.pxi:7088\u001b[0m, in \u001b[0;36mpandas._libs.hashtable.PyObjectHashTable.get_item\u001b[0;34m()\u001b[0m\n",
      "\u001b[0;31mKeyError\u001b[0m: '_timestamp'",
      "\nThe above exception was the direct cause of the following exception:\n",
      "\u001b[0;31mKeyError\u001b[0m                                  Traceback (most recent call last)",
      "Cell \u001b[0;32mIn[40], line 11\u001b[0m\n\u001b[1;32m      8\u001b[0m selected_sweeps \u001b[38;5;241m=\u001b[39m [sn \u001b[38;5;28;01mfor\u001b[39;00m sn \u001b[38;5;129;01min\u001b[39;00m sweep_names \n\u001b[1;32m      9\u001b[0m                    \u001b[38;5;28;01mif\u001b[39;00m dataset_name \u001b[38;5;129;01min\u001b[39;00m sn \u001b[38;5;129;01mand\u001b[39;00m model_name \u001b[38;5;129;01min\u001b[39;00m sn]\n\u001b[1;32m     10\u001b[0m check_all_finnished(selected_sweeps)\n\u001b[0;32m---> 11\u001b[0m grouped_results \u001b[38;5;241m=\u001b[39m pd\u001b[38;5;241m.\u001b[39mconcat(\u001b[43mwu\u001b[49m\u001b[38;5;241;43m.\u001b[39;49m\u001b[43mget_multi_df\u001b[49m\u001b[43m(\u001b[49m\u001b[43mselected_sweeps\u001b[49m\u001b[43m)\u001b[49m)\n\u001b[1;32m     12\u001b[0m hyperparameters \u001b[38;5;241m=\u001b[39m get_hyperparameter_names(selected_sweeps)\n\u001b[1;32m     13\u001b[0m bests, query \u001b[38;5;241m=\u001b[39m get_best_hyperparameters(grouped_results, \n\u001b[1;32m     14\u001b[0m                                  hyperparameters)\n",
      "File \u001b[0;32m~/pykt-toolkit/scripts/notebooks/../../pykt/utils/wandb_utils.py:137\u001b[0m, in \u001b[0;36mWandbUtils.get_multi_df\u001b[0;34m(self, id_list, input_type, drop_duplicate, drop_na, only_finish, n_jobs)\u001b[0m\n\u001b[1;32m    135\u001b[0m     \u001b[38;5;28;01mreturn\u001b[39;00m df\n\u001b[1;32m    136\u001b[0m p \u001b[38;5;241m=\u001b[39m ThreadPool(n_jobs)\n\u001b[0;32m--> 137\u001b[0m df_list \u001b[38;5;241m=\u001b[39m \u001b[43mp\u001b[49m\u001b[38;5;241;43m.\u001b[39;49m\u001b[43mmap\u001b[49m\u001b[43m(\u001b[49m\u001b[43mget_df_help\u001b[49m\u001b[43m,\u001b[49m\u001b[43m \u001b[49m\u001b[43mid_list\u001b[49m\u001b[43m)\u001b[49m\n\u001b[1;32m    138\u001b[0m p\u001b[38;5;241m.\u001b[39mclose()\n\u001b[1;32m    139\u001b[0m \u001b[38;5;28;01mreturn\u001b[39;00m df_list\n",
      "File \u001b[0;32m/scratch/work/koutchc1/.conda_envs/emnlp2023/lib/python3.11/multiprocessing/pool.py:367\u001b[0m, in \u001b[0;36mPool.map\u001b[0;34m(self, func, iterable, chunksize)\u001b[0m\n\u001b[1;32m    362\u001b[0m \u001b[38;5;28;01mdef\u001b[39;00m \u001b[38;5;21mmap\u001b[39m(\u001b[38;5;28mself\u001b[39m, func, iterable, chunksize\u001b[38;5;241m=\u001b[39m\u001b[38;5;28;01mNone\u001b[39;00m):\n\u001b[1;32m    363\u001b[0m \u001b[38;5;250m    \u001b[39m\u001b[38;5;124;03m'''\u001b[39;00m\n\u001b[1;32m    364\u001b[0m \u001b[38;5;124;03m    Apply `func` to each element in `iterable`, collecting the results\u001b[39;00m\n\u001b[1;32m    365\u001b[0m \u001b[38;5;124;03m    in a list that is returned.\u001b[39;00m\n\u001b[1;32m    366\u001b[0m \u001b[38;5;124;03m    '''\u001b[39;00m\n\u001b[0;32m--> 367\u001b[0m     \u001b[38;5;28;01mreturn\u001b[39;00m \u001b[38;5;28;43mself\u001b[39;49m\u001b[38;5;241;43m.\u001b[39;49m\u001b[43m_map_async\u001b[49m\u001b[43m(\u001b[49m\u001b[43mfunc\u001b[49m\u001b[43m,\u001b[49m\u001b[43m \u001b[49m\u001b[43miterable\u001b[49m\u001b[43m,\u001b[49m\u001b[43m \u001b[49m\u001b[43mmapstar\u001b[49m\u001b[43m,\u001b[49m\u001b[43m \u001b[49m\u001b[43mchunksize\u001b[49m\u001b[43m)\u001b[49m\u001b[38;5;241;43m.\u001b[39;49m\u001b[43mget\u001b[49m\u001b[43m(\u001b[49m\u001b[43m)\u001b[49m\n",
      "File \u001b[0;32m/scratch/work/koutchc1/.conda_envs/emnlp2023/lib/python3.11/multiprocessing/pool.py:774\u001b[0m, in \u001b[0;36mApplyResult.get\u001b[0;34m(self, timeout)\u001b[0m\n\u001b[1;32m    772\u001b[0m     \u001b[38;5;28;01mreturn\u001b[39;00m \u001b[38;5;28mself\u001b[39m\u001b[38;5;241m.\u001b[39m_value\n\u001b[1;32m    773\u001b[0m \u001b[38;5;28;01melse\u001b[39;00m:\n\u001b[0;32m--> 774\u001b[0m     \u001b[38;5;28;01mraise\u001b[39;00m \u001b[38;5;28mself\u001b[39m\u001b[38;5;241m.\u001b[39m_value\n",
      "File \u001b[0;32m/scratch/work/koutchc1/.conda_envs/emnlp2023/lib/python3.11/multiprocessing/pool.py:125\u001b[0m, in \u001b[0;36mworker\u001b[0;34m(inqueue, outqueue, initializer, initargs, maxtasks, wrap_exception)\u001b[0m\n\u001b[1;32m    123\u001b[0m job, i, func, args, kwds \u001b[38;5;241m=\u001b[39m task\n\u001b[1;32m    124\u001b[0m \u001b[38;5;28;01mtry\u001b[39;00m:\n\u001b[0;32m--> 125\u001b[0m     result \u001b[38;5;241m=\u001b[39m (\u001b[38;5;28;01mTrue\u001b[39;00m, \u001b[43mfunc\u001b[49m\u001b[43m(\u001b[49m\u001b[38;5;241;43m*\u001b[39;49m\u001b[43margs\u001b[49m\u001b[43m,\u001b[49m\u001b[43m \u001b[49m\u001b[38;5;241;43m*\u001b[39;49m\u001b[38;5;241;43m*\u001b[39;49m\u001b[43mkwds\u001b[49m\u001b[43m)\u001b[49m)\n\u001b[1;32m    126\u001b[0m \u001b[38;5;28;01mexcept\u001b[39;00m \u001b[38;5;167;01mException\u001b[39;00m \u001b[38;5;28;01mas\u001b[39;00m e:\n\u001b[1;32m    127\u001b[0m     \u001b[38;5;28;01mif\u001b[39;00m wrap_exception \u001b[38;5;129;01mand\u001b[39;00m func \u001b[38;5;129;01mis\u001b[39;00m \u001b[38;5;129;01mnot\u001b[39;00m _helper_reraises_exception:\n",
      "File \u001b[0;32m/scratch/work/koutchc1/.conda_envs/emnlp2023/lib/python3.11/multiprocessing/pool.py:48\u001b[0m, in \u001b[0;36mmapstar\u001b[0;34m(args)\u001b[0m\n\u001b[1;32m     47\u001b[0m \u001b[38;5;28;01mdef\u001b[39;00m \u001b[38;5;21mmapstar\u001b[39m(args):\n\u001b[0;32m---> 48\u001b[0m     \u001b[38;5;28;01mreturn\u001b[39;00m \u001b[38;5;28mlist\u001b[39m(\u001b[38;5;28mmap\u001b[39m(\u001b[38;5;241m*\u001b[39margs))\n",
      "File \u001b[0;32m~/pykt-toolkit/scripts/notebooks/../../pykt/utils/wandb_utils.py:133\u001b[0m, in \u001b[0;36mWandbUtils.get_multi_df.<locals>.get_df_help\u001b[0;34m(id)\u001b[0m\n\u001b[1;32m    132\u001b[0m \u001b[38;5;28;01mdef\u001b[39;00m \u001b[38;5;21mget_df_help\u001b[39m(\u001b[38;5;28mid\u001b[39m):\n\u001b[0;32m--> 133\u001b[0m     df, _ \u001b[38;5;241m=\u001b[39m \u001b[38;5;28;43mself\u001b[39;49m\u001b[38;5;241;43m.\u001b[39;49m\u001b[43mget_df\u001b[49m\u001b[43m(\u001b[49m\u001b[38;5;28;43mid\u001b[39;49m\u001b[43m,\u001b[49m\u001b[43minput_type\u001b[49m\u001b[38;5;241;43m=\u001b[39;49m\u001b[43minput_type\u001b[49m\u001b[43m,\u001b[49m\u001b[43mdrop_duplicate\u001b[49m\u001b[38;5;241;43m=\u001b[39;49m\u001b[43mdrop_duplicate\u001b[49m\u001b[43m,\u001b[49m\u001b[43mdrop_na\u001b[49m\u001b[38;5;241;43m=\u001b[39;49m\u001b[43mdrop_na\u001b[49m\u001b[43m,\u001b[49m\u001b[43monly_finish\u001b[49m\u001b[38;5;241;43m=\u001b[39;49m\u001b[43monly_finish\u001b[49m\u001b[43m)\u001b[49m\n\u001b[1;32m    134\u001b[0m     df[input_type] \u001b[38;5;241m=\u001b[39m \u001b[38;5;28mid\u001b[39m\n\u001b[1;32m    135\u001b[0m     \u001b[38;5;28;01mreturn\u001b[39;00m df\n",
      "File \u001b[0;32m~/pykt-toolkit/scripts/notebooks/../../pykt/utils/wandb_utils.py:103\u001b[0m, in \u001b[0;36mWandbUtils.get_df\u001b[0;34m(self, id, input_type, drop_duplicate, drop_na, only_finish)\u001b[0m\n\u001b[1;32m    101\u001b[0m \u001b[38;5;28;01melse\u001b[39;00m:\n\u001b[1;32m    102\u001b[0m     sweep \u001b[38;5;241m=\u001b[39m \u001b[38;5;28mself\u001b[39m\u001b[38;5;241m.\u001b[39mapi\u001b[38;5;241m.\u001b[39msweep(\u001b[38;5;124mf\u001b[39m\u001b[38;5;124m\"\u001b[39m\u001b[38;5;132;01m{\u001b[39;00m\u001b[38;5;28mself\u001b[39m\u001b[38;5;241m.\u001b[39muser\u001b[38;5;132;01m}\u001b[39;00m\u001b[38;5;124m/\u001b[39m\u001b[38;5;132;01m{\u001b[39;00m\u001b[38;5;28mself\u001b[39m\u001b[38;5;241m.\u001b[39mproject_name\u001b[38;5;132;01m}\u001b[39;00m\u001b[38;5;124m/\u001b[39m\u001b[38;5;132;01m{\u001b[39;00msweep_id\u001b[38;5;132;01m}\u001b[39;00m\u001b[38;5;124m\"\u001b[39m)\n\u001b[0;32m--> 103\u001b[0m     df,model_config_keys \u001b[38;5;241m=\u001b[39m \u001b[43mget_runs_result\u001b[49m\u001b[43m(\u001b[49m\u001b[43msweep\u001b[49m\u001b[38;5;241;43m.\u001b[39;49m\u001b[43mruns\u001b[49m\u001b[43m)\u001b[49m\n\u001b[1;32m    104\u001b[0m     \u001b[38;5;66;03m#save to file\u001b[39;00m\n\u001b[1;32m    105\u001b[0m     df\u001b[38;5;241m.\u001b[39mto_csv(df_cache_path,index\u001b[38;5;241m=\u001b[39m\u001b[38;5;28;01mFalse\u001b[39;00m)\n",
      "File \u001b[0;32m~/pykt-toolkit/scripts/notebooks/../../pykt/utils/wandb_utils.py:26\u001b[0m, in \u001b[0;36mget_runs_result\u001b[0;34m(runs)\u001b[0m\n\u001b[1;32m     24\u001b[0m     result_list\u001b[38;5;241m.\u001b[39mappend(result)\n\u001b[1;32m     25\u001b[0m runs_df \u001b[38;5;241m=\u001b[39m pd\u001b[38;5;241m.\u001b[39mDataFrame(result_list)\n\u001b[0;32m---> 26\u001b[0m runs_df[\u001b[38;5;124m'\u001b[39m\u001b[38;5;124mcreate_time\u001b[39m\u001b[38;5;124m'\u001b[39m] \u001b[38;5;241m=\u001b[39m \u001b[43mruns_df\u001b[49m\u001b[43m[\u001b[49m\u001b[38;5;124;43m'\u001b[39;49m\u001b[38;5;124;43m_timestamp\u001b[39;49m\u001b[38;5;124;43m'\u001b[39;49m\u001b[43m]\u001b[49m\n\u001b[1;32m     27\u001b[0m model_config_keys \u001b[38;5;241m=\u001b[39m \u001b[38;5;28mlist\u001b[39m(model_config\u001b[38;5;241m.\u001b[39mkeys())\n\u001b[1;32m     28\u001b[0m \u001b[38;5;28;01mreturn\u001b[39;00m runs_df,model_config_keys\n",
      "File \u001b[0;32m/scratch/work/koutchc1/.conda_envs/emnlp2023/lib/python3.11/site-packages/pandas/core/frame.py:3761\u001b[0m, in \u001b[0;36mDataFrame.__getitem__\u001b[0;34m(self, key)\u001b[0m\n\u001b[1;32m   3759\u001b[0m \u001b[38;5;28;01mif\u001b[39;00m \u001b[38;5;28mself\u001b[39m\u001b[38;5;241m.\u001b[39mcolumns\u001b[38;5;241m.\u001b[39mnlevels \u001b[38;5;241m>\u001b[39m \u001b[38;5;241m1\u001b[39m:\n\u001b[1;32m   3760\u001b[0m     \u001b[38;5;28;01mreturn\u001b[39;00m \u001b[38;5;28mself\u001b[39m\u001b[38;5;241m.\u001b[39m_getitem_multilevel(key)\n\u001b[0;32m-> 3761\u001b[0m indexer \u001b[38;5;241m=\u001b[39m \u001b[38;5;28;43mself\u001b[39;49m\u001b[38;5;241;43m.\u001b[39;49m\u001b[43mcolumns\u001b[49m\u001b[38;5;241;43m.\u001b[39;49m\u001b[43mget_loc\u001b[49m\u001b[43m(\u001b[49m\u001b[43mkey\u001b[49m\u001b[43m)\u001b[49m\n\u001b[1;32m   3762\u001b[0m \u001b[38;5;28;01mif\u001b[39;00m is_integer(indexer):\n\u001b[1;32m   3763\u001b[0m     indexer \u001b[38;5;241m=\u001b[39m [indexer]\n",
      "File \u001b[0;32m/scratch/work/koutchc1/.conda_envs/emnlp2023/lib/python3.11/site-packages/pandas/core/indexes/base.py:3654\u001b[0m, in \u001b[0;36mIndex.get_loc\u001b[0;34m(self, key)\u001b[0m\n\u001b[1;32m   3652\u001b[0m     \u001b[38;5;28;01mreturn\u001b[39;00m \u001b[38;5;28mself\u001b[39m\u001b[38;5;241m.\u001b[39m_engine\u001b[38;5;241m.\u001b[39mget_loc(casted_key)\n\u001b[1;32m   3653\u001b[0m \u001b[38;5;28;01mexcept\u001b[39;00m \u001b[38;5;167;01mKeyError\u001b[39;00m \u001b[38;5;28;01mas\u001b[39;00m err:\n\u001b[0;32m-> 3654\u001b[0m     \u001b[38;5;28;01mraise\u001b[39;00m \u001b[38;5;167;01mKeyError\u001b[39;00m(key) \u001b[38;5;28;01mfrom\u001b[39;00m \u001b[38;5;21;01merr\u001b[39;00m\n\u001b[1;32m   3655\u001b[0m \u001b[38;5;28;01mexcept\u001b[39;00m \u001b[38;5;167;01mTypeError\u001b[39;00m:\n\u001b[1;32m   3656\u001b[0m     \u001b[38;5;66;03m# If we have a listlike key, _check_indexing_error will raise\u001b[39;00m\n\u001b[1;32m   3657\u001b[0m     \u001b[38;5;66;03m#  InvalidIndexError. Otherwise we fall through and re-raise\u001b[39;00m\n\u001b[1;32m   3658\u001b[0m     \u001b[38;5;66;03m#  the TypeError.\u001b[39;00m\n\u001b[1;32m   3659\u001b[0m     \u001b[38;5;28mself\u001b[39m\u001b[38;5;241m.\u001b[39m_check_indexing_error(key)\n",
      "\u001b[0;31mKeyError\u001b[0m: '_timestamp'"
     ]
    }
   ],
   "source": [
    "from collections import defaultdict\n",
    "from itertools import product\n",
    "\n",
    "f = lambda : defaultdict(dict)\n",
    "dataframes = []\n",
    "best_hyperparams = defaultdict(f)\n",
    "for dataset_name, model_name in product(datasets, models):\n",
    "    selected_sweeps = [sn for sn in sweep_names \n",
    "                       if dataset_name in sn and model_name in sn]\n",
    "    check_all_finnished(selected_sweeps)\n",
    "    grouped_results = pd.concat(wu.get_multi_df(selected_sweeps))\n",
    "    hyperparameters = get_hyperparameter_names(selected_sweeps)\n",
    "    bests, query = get_best_hyperparameters(grouped_results, \n",
    "                                     hyperparameters)\n",
    "    best_hyperparams[dataset_name][model_name] = bests\n",
    "    dataframes.append(grouped_results.query(query))\n",
    "    \n",
    "best_hyperparams = dict(best_hyperparams)\n",
    "best_hyperparams"
   ]
  },
  {
   "cell_type": "code",
   "execution_count": null,
   "metadata": {},
   "outputs": [],
   "source": [
    "def get_best_models(grouped_results):\n",
    "    f = lambda df: df.sort_values(by=\"validauc\").iloc[-1]\n",
    "    return grouped_results.groupby(\"fold\").apply(f)"
   ]
  },
  {
   "cell_type": "code",
   "execution_count": null,
   "metadata": {},
   "outputs": [],
   "source": [
    "from collections import defaultdict\n",
    "from itertools import product\n",
    "\n",
    "f = lambda : defaultdict(dict)\n",
    "dataframes = []\n",
    "best_models = defaultdict(f)\n",
    "for dataset_name, model_name in product(datasets, models):\n",
    "    selected_sweeps = [sn for sn in sweep_names \n",
    "                       if dataset_name in sn and model_name in sn]\n",
    "    check_all_finnished(selected_sweeps)\n",
    "    grouped_results = pd.concat(wu.get_multi_df(selected_sweeps))\n",
    "    sub_df = get_best_models(grouped_results)\n",
    "    best_models[dataset_name][model_name] = list(sub_df.model_save_path)"
   ]
  },
  {
   "cell_type": "code",
   "execution_count": null,
   "metadata": {},
   "outputs": [],
   "source": [
    "best_models['falconcode_2_2']['dkt']"
   ]
  },
  {
   "cell_type": "markdown",
   "metadata": {},
   "source": [
    "At the end here we have a mapping of the hyperparameters to rerun model training with, which we will save somewhere in a file or a dictionary. We can then pass this dictionary to another training script which will run the model trainings with the good hyperparameters"
   ]
  },
  {
   "cell_type": "code",
   "execution_count": null,
   "metadata": {},
   "outputs": [],
   "source": [
    "import json\n",
    "\n",
    "best_configs_path = \"/home/koutchc1/pykt-toolkit/configs/best_model.json\"\n",
    "\n",
    "data = {}\n",
    "if os.path.exists(best_configs_path):\n",
    "    with open(best_configs_path, \"r\") as f:\n",
    "        data = json.load(f)\n",
    "data.update(best_models)\n",
    "\n",
    "with open(best_configs_path, \"w\") as f:\n",
    "    json.dump(data, f, indent = 3)"
   ]
  },
  {
   "cell_type": "code",
   "execution_count": null,
   "metadata": {},
   "outputs": [],
   "source": [
    "best_models_txt_path = \"/home/koutchc1/pykt-toolkit/best_models.txt\"\n",
    "with open(best_models_txt_path, 'w') as f:\n",
    "    for dataset, models_to_path in data.items():\n",
    "        for paths in models_to_path.values():\n",
    "            for path in paths:\n",
    "                f.write(\"/\".join(path.split(\"/\")[:-1]) + \"\\n\")"
   ]
  },
  {
   "cell_type": "code",
   "execution_count": null,
   "metadata": {},
   "outputs": [],
   "source": []
  }
 ],
 "metadata": {
  "kernelspec": {
   "display_name": "Python (emnlp2023)",
   "language": "python",
   "name": "emnlp2023"
  },
  "language_info": {
   "codemirror_mode": {
    "name": "ipython",
    "version": 3
   },
   "file_extension": ".py",
   "mimetype": "text/x-python",
   "name": "python",
   "nbconvert_exporter": "python",
   "pygments_lexer": "ipython3",
   "version": "3.11.3"
  }
 },
 "nbformat": 4,
 "nbformat_minor": 4
}
